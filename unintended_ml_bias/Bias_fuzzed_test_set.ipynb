{
  "nbformat": 4,
  "nbformat_minor": 0,
  "metadata": {
    "colab": {
      "name": "Bias_fuzzed_test_set.ipynb",
      "version": "0.3.2",
      "provenance": [],
      "include_colab_link": true
    },
    "kernelspec": {
      "display_name": "Python 2",
      "language": "python",
      "name": "python2"
    }
  },
  "cells": [
    {
      "cell_type": "markdown",
      "metadata": {
        "id": "view-in-github",
        "colab_type": "text"
      },
      "source": [
        "[View in Colaboratory](https://colab.research.google.com/github/corrieann/unintended-ml-bias-analysis/blob/master/unintended_ml_bias/Bias_fuzzed_test_set.ipynb)"
      ]
    },
    {
      "metadata": {
        "id": "te2DR05iGvc_",
        "colab_type": "text"
      },
      "cell_type": "markdown",
      "source": [
        "# Fuzzing a test set for model bias analysis\n",
        "\n",
        "This notebook creates a test set \"fuzzed\" over a set of identity terms. This fuzzed test set can be used for analyzing bias in a model.\n",
        "\n",
        "The idea is that, for the most part, the specific identity term used should not be the key feature determining whether a comment is toxic or non-toxic. For example, the sentence \"I had a <x> friend growing up\" should be considered non-toxic, and \"All <x> people must be wiped off the earth\" should be considered toxic for all values of `x` in our terms set.\n",
        "\n",
        "Given a set of terms, this code finds comments that mention those terms and replaces each instance with a random other term in the set. This fuzzed test set can be used to evaluate a model for bias. If the model performs worse on the fuzzed test set than on the non-fuzzed test set, "
      ]
    },
    {
      "metadata": {
        "id": "0FLWndEOGvdA",
        "colab_type": "text"
      },
      "cell_type": "markdown",
      "source": [
        "## Data prep"
      ]
    },
    {
      "metadata": {
        "id": "yZz_bKbkGvdB",
        "colab_type": "code",
        "colab": {}
      },
      "cell_type": "code",
      "source": [
        "from __future__ import absolute_import\n",
        "from __future__ import division\n",
        "from __future__ import print_function\n",
        "\n",
        "import pandas as pd\n",
        "import urllib\n",
        "import matplotlib.pyplot as plt\n",
        "%matplotlib inline"
      ],
      "execution_count": 0,
      "outputs": []
    },
    {
      "metadata": {
        "id": "2QzPQohVGvdE",
        "colab_type": "code",
        "colab": {}
      },
      "cell_type": "code",
      "source": [
        "COMMENTS = '../data/toxicity_annotated_comments.tsv'\n",
        "ANNOTATIONS = '../data/toxicity_annotations.tsv'"
      ],
      "execution_count": 0,
      "outputs": []
    },
    {
      "metadata": {
        "id": "lRzQZxj5GvdG",
        "colab_type": "code",
        "colab": {}
      },
      "cell_type": "code",
      "source": [
        "comments = pd.read_csv(COMMENTS, sep='\\t')\n",
        "annotations = pd.read_csv(ANNOTATIONS, sep='\\t')\n",
        "\n",
        "# convert rev_id from float to int\n",
        "comments['rev_id'] = comments['rev_id'].astype(int)\n",
        "annotations['rev_id'] = annotations['rev_id'].astype(int)\n",
        "\n",
        "# remove newline and tab tokens\n",
        "comments['comment'] = comments['comment'].apply(lambda x: x.replace(\"NEWLINE_TOKEN\", \" \"))\n",
        "comments['comment'] = comments['comment'].apply(lambda x: x.replace(\"TAB_TOKEN\", \" \"))"
      ],
      "execution_count": 0,
      "outputs": []
    },
    {
      "metadata": {
        "id": "ZIg3RnToGvdJ",
        "colab_type": "code",
        "colab": {},
        "outputId": "23ef5da9-2f4f-4bfa-b028-903cd706894c"
      },
      "cell_type": "code",
      "source": [
        "comments.head()"
      ],
      "execution_count": 0,
      "outputs": [
        {
          "output_type": "execute_result",
          "data": {
            "text/html": [
              "<div>\n",
              "<table border=\"1\" class=\"dataframe\">\n",
              "  <thead>\n",
              "    <tr style=\"text-align: right;\">\n",
              "      <th></th>\n",
              "      <th>rev_id</th>\n",
              "      <th>comment</th>\n",
              "      <th>year</th>\n",
              "      <th>logged_in</th>\n",
              "      <th>ns</th>\n",
              "      <th>sample</th>\n",
              "      <th>split</th>\n",
              "    </tr>\n",
              "  </thead>\n",
              "  <tbody>\n",
              "    <tr>\n",
              "      <th>0</th>\n",
              "      <td>2232</td>\n",
              "      <td>This: :One can make an analogy in mathematical...</td>\n",
              "      <td>2002</td>\n",
              "      <td>True</td>\n",
              "      <td>article</td>\n",
              "      <td>random</td>\n",
              "      <td>train</td>\n",
              "    </tr>\n",
              "    <tr>\n",
              "      <th>1</th>\n",
              "      <td>4216</td>\n",
              "      <td>`  :Clarification for you  (and Zundark's righ...</td>\n",
              "      <td>2002</td>\n",
              "      <td>True</td>\n",
              "      <td>user</td>\n",
              "      <td>random</td>\n",
              "      <td>train</td>\n",
              "    </tr>\n",
              "    <tr>\n",
              "      <th>2</th>\n",
              "      <td>8953</td>\n",
              "      <td>Elected or Electoral? JHK</td>\n",
              "      <td>2002</td>\n",
              "      <td>False</td>\n",
              "      <td>article</td>\n",
              "      <td>random</td>\n",
              "      <td>test</td>\n",
              "    </tr>\n",
              "    <tr>\n",
              "      <th>3</th>\n",
              "      <td>26547</td>\n",
              "      <td>`This is such a fun entry.   Devotchka  I once...</td>\n",
              "      <td>2002</td>\n",
              "      <td>True</td>\n",
              "      <td>article</td>\n",
              "      <td>random</td>\n",
              "      <td>train</td>\n",
              "    </tr>\n",
              "    <tr>\n",
              "      <th>4</th>\n",
              "      <td>28959</td>\n",
              "      <td>Please relate the ozone hole to increases in c...</td>\n",
              "      <td>2002</td>\n",
              "      <td>True</td>\n",
              "      <td>article</td>\n",
              "      <td>random</td>\n",
              "      <td>test</td>\n",
              "    </tr>\n",
              "  </tbody>\n",
              "</table>\n",
              "</div>"
            ],
            "text/plain": [
              "   rev_id                                            comment  year logged_in  \\\n",
              "0    2232  This: :One can make an analogy in mathematical...  2002      True   \n",
              "1    4216  `  :Clarification for you  (and Zundark's righ...  2002      True   \n",
              "2    8953                          Elected or Electoral? JHK  2002     False   \n",
              "3   26547  `This is such a fun entry.   Devotchka  I once...  2002      True   \n",
              "4   28959  Please relate the ozone hole to increases in c...  2002      True   \n",
              "\n",
              "        ns  sample  split  \n",
              "0  article  random  train  \n",
              "1     user  random  train  \n",
              "2  article  random   test  \n",
              "3  article  random  train  \n",
              "4  article  random   test  "
            ]
          },
          "metadata": {
            "tags": []
          },
          "execution_count": 124
        }
      ]
    },
    {
      "metadata": {
        "id": "HDv1zKC7GvdN",
        "colab_type": "code",
        "colab": {}
      },
      "cell_type": "code",
      "source": [
        "# label a comment as toxic if the majority of annotators did so\n",
        "comments.set_index('rev_id', inplace=True)\n",
        "comments['toxic'] = annotations.groupby('rev_id')['toxicity'].mean() > 0.5"
      ],
      "execution_count": 0,
      "outputs": []
    },
    {
      "metadata": {
        "id": "NJMTmSO2GvdP",
        "colab_type": "text"
      },
      "cell_type": "markdown",
      "source": [
        "## Identity term fuzzing"
      ]
    },
    {
      "metadata": {
        "id": "QK1Ud6LOGvdQ",
        "colab_type": "code",
        "colab": {}
      },
      "cell_type": "code",
      "source": [
        "import re\n",
        "\n",
        "def word_bound(pat):\n",
        "    \"\"\"Adds word boundary matchers to pattern.\"\"\"\n",
        "    return r'\\b{}\\b'.format(pat)\n",
        "\n",
        "IDENTITY_TERMS = ['christian', 'catholic', 'protestant', 'muslim', 'sikh', 'jewish', 'jew',\n",
        "                  'lesbian', 'gay', 'transgender', 'queer', 'homosexual', 'heterosexual']"
      ],
      "execution_count": 0,
      "outputs": []
    },
    {
      "metadata": {
        "id": "pzPUgd2OGvdT",
        "colab_type": "code",
        "colab": {},
        "outputId": "b94efc29-d660-4e98-8ee5-393dd37a68e0"
      },
      "cell_type": "code",
      "source": [
        "%%time\n",
        "test_comments = comments[comments.split == 'test']\n",
        "\n",
        "IDENTITY_TERMS_BOUNDED = [word_bound(term) for term in IDENTITY_TERMS]\n",
        "identity_comments = test_comments[test_comments.comment.str.contains('|'.join(IDENTITY_TERMS_BOUNDED), case=False)]"
      ],
      "execution_count": 0,
      "outputs": [
        {
          "output_type": "stream",
          "text": [
            "CPU times: user 968 ms, sys: 12 ms, total: 980 ms\n",
            "Wall time: 953 ms\n"
          ],
          "name": "stdout"
        }
      ]
    },
    {
      "metadata": {
        "id": "4K2ubnU6GvdV",
        "colab_type": "code",
        "colab": {},
        "outputId": "1f7528ed-94eb-4022-faba-15d127726c21"
      },
      "cell_type": "code",
      "source": [
        "identity_comments[identity_comments.comment.str.len() < 30].comment"
      ],
      "execution_count": 0,
      "outputs": [
        {
          "output_type": "execute_result",
          "data": {
            "text/plain": [
              "rev_id\n",
              "56801367           MR laws is a homosexual\n",
              "260376090             into a Jewish family\n",
              "297126171         I too am a gay pedophile\n",
              "337285529      ]] and [[Lesbian Separatist\n",
              "340682233    call me out for being a queer\n",
              "391186610             for my Jewish tastes\n",
              "393367921          SpikeToronto Is Gay RCP\n",
              "420715830    Jew Marxist Raus Raus Raus.  \n",
              "539053641      == lgbt rights ==  your gay\n",
              "Name: comment, dtype: object"
            ]
          },
          "metadata": {
            "tags": []
          },
          "execution_count": 143
        }
      ]
    },
    {
      "metadata": {
        "id": "e_ZyxBw-GvdY",
        "colab_type": "code",
        "colab": {}
      },
      "cell_type": "code",
      "source": [
        "import random\n",
        "\n",
        "def fuzz_comment(text, identity_terms):\n",
        "    terms_present = [term for term in identity_terms\n",
        "                     if re.search(word_bound(term), text, flags=re.IGNORECASE)]    \n",
        "    # TODO(jetpack): earlier replacements may be \"overwritten\" by later replacements.\n",
        "    # not sure if there's a non-random effect from iterating this list.\n",
        "    # since each choice is random, i don't think so?\n",
        "    for term in terms_present:\n",
        "        # Replace text with random other term.\n",
        "        text, _count = re.subn(word_bound(term), random.choice(identity_terms), text, flags=re.IGNORECASE)\n",
        "    return text"
      ],
      "execution_count": 0,
      "outputs": []
    },
    {
      "metadata": {
        "id": "z-nejpK0Gvdb",
        "colab_type": "code",
        "colab": {},
        "outputId": "c9dcb61a-75ea-4880-f8f1-6105adfcc931"
      },
      "cell_type": "code",
      "source": [
        "fuzz_comment(\"Gay is a term that primarily refers to a homosexual person or the trait of being homosexual\", IDENTITY_TERMS)"
      ],
      "execution_count": 0,
      "outputs": [
        {
          "output_type": "execute_result",
          "data": {
            "text/plain": [
              "'sikh is a term that primarily refers to a jewish person or the trait of being jewish'"
            ]
          },
          "metadata": {
            "tags": []
          },
          "execution_count": 166
        }
      ]
    },
    {
      "metadata": {
        "id": "Jz3JuOF8Gvdd",
        "colab_type": "code",
        "colab": {},
        "outputId": "167f4e72-a423-473b-ce42-72d984280f06"
      },
      "cell_type": "code",
      "source": [
        "identity_comments[identity_comments.comment.str.len() < 30].comment.apply(lambda s: fuzz_comment(s, IDENTITY_TERMS))"
      ],
      "execution_count": 0,
      "outputs": [
        {
          "output_type": "execute_result",
          "data": {
            "text/plain": [
              "rev_id\n",
              "56801367                        MR laws is a jewish\n",
              "260376090                      into a muslim family\n",
              "297126171           I too am a protestant pedophile\n",
              "337285529               ]] and [[lesbian Separatist\n",
              "340682233               call me out for being a jew\n",
              "391186610                  for my protestant tastes\n",
              "393367921            SpikeToronto Is protestant RCP\n",
              "420715830    heterosexual Marxist Raus Raus Raus.  \n",
              "539053641            == lgbt rights ==  your jewish\n",
              "Name: comment, dtype: object"
            ]
          },
          "metadata": {
            "tags": []
          },
          "execution_count": 168
        }
      ]
    },
    {
      "metadata": {
        "id": "bumMTxJPGvdg",
        "colab_type": "text"
      },
      "cell_type": "markdown",
      "source": [
        "## Write new fuzzed test set\n",
        "\n",
        "We also randomly sample comments that don't mention identity terms. This is because the absolute score ranges are important. For example, AUC can still be high even if all identity term comments have elevated scores relative to other comments. Including non-identity term comments will cause AUC to drop if this is the case."
      ]
    },
    {
      "metadata": {
        "id": "AOP-mRwvGvdh",
        "colab_type": "code",
        "colab": {},
        "outputId": "7eef6bb5-bea7-4543-d5ed-e4785459e261"
      },
      "cell_type": "code",
      "source": [
        "len(test_comments)"
      ],
      "execution_count": 0,
      "outputs": [
        {
          "output_type": "execute_result",
          "data": {
            "text/plain": [
              "31866"
            ]
          },
          "metadata": {
            "tags": []
          },
          "execution_count": 146
        }
      ]
    },
    {
      "metadata": {
        "id": "YQyO6OxzGvdk",
        "colab_type": "code",
        "colab": {},
        "outputId": "82f134c0-9889-4216-cf8d-22e4ddca4b35"
      },
      "cell_type": "code",
      "source": [
        "len(identity_comments)"
      ],
      "execution_count": 0,
      "outputs": [
        {
          "output_type": "execute_result",
          "data": {
            "text/plain": [
              "746"
            ]
          },
          "metadata": {
            "tags": []
          },
          "execution_count": 148
        }
      ]
    },
    {
      "metadata": {
        "id": "IJC-eau3Gvdo",
        "colab_type": "code",
        "colab": {}
      },
      "cell_type": "code",
      "source": [
        "_non = test_comments.drop(identity_comments.index)"
      ],
      "execution_count": 0,
      "outputs": []
    },
    {
      "metadata": {
        "id": "ixJQLzlPGvdr",
        "colab_type": "code",
        "colab": {}
      },
      "cell_type": "code",
      "source": [
        "def build_fuzzed_testset(comments, identity_terms=IDENTITY_TERMS):\n",
        "    \"\"\"Builds a test sets 'fuzzed' over the given identity terms.\n",
        "    \n",
        "    Returns both a fuzzed and non-fuzzed test set. Each are comprised\n",
        "    of the same comments. The fuzzed version contains comments that\n",
        "    have been fuzzed, whereas the non-fuzzed comments have not been modified.\n",
        "    \"\"\"\n",
        "    any_terms_pat = '|'.join(word_bound(term) for term in identity_terms)\n",
        "    \n",
        "    test_comments = comments[comments.split == 'test'][['comment', 'toxic']].copy()\n",
        "    identity_comments = test_comments[test_comments.comment.str.contains(any_terms_pat, case=False)]\n",
        "    non_identity_comments = test_comments.drop(identity_comments.index).sample(len(identity_comments))\n",
        "    \n",
        "    fuzzed_identity_comments = identity_comments.copy()\n",
        "    fuzzed_identity_comments.loc[:, 'comment'] = fuzzed_identity_comments['comment'].apply(lambda s: fuzz_comment(s, IDENTITY_TERMS))\n",
        "\n",
        "    nonfuzzed_testset = pd.concat([identity_comments, non_identity_comments]).sort_index()\n",
        "    fuzzed_testset = pd.concat([fuzzed_identity_comments, non_identity_comments]).sort_index()\n",
        "    \n",
        "    return {'fuzzed': fuzzed_testset, 'nonfuzzed': nonfuzzed_testset}"
      ],
      "execution_count": 0,
      "outputs": []
    },
    {
      "metadata": {
        "id": "D_tZu3BMGvdu",
        "colab_type": "code",
        "colab": {}
      },
      "cell_type": "code",
      "source": [
        "testsets = build_fuzzed_testset(comments)"
      ],
      "execution_count": 0,
      "outputs": []
    },
    {
      "metadata": {
        "id": "HKhSEmr5Gvdy",
        "colab_type": "code",
        "colab": {},
        "outputId": "3d0f68e4-3e1f-4eab-d957-7c16a5fad04a"
      },
      "cell_type": "code",
      "source": [
        "testsets['fuzzed'].query('comment.str.len() < 50').sample(15)"
      ],
      "execution_count": 0,
      "outputs": [
        {
          "output_type": "execute_result",
          "data": {
            "text/html": [
              "<div>\n",
              "<table border=\"1\" class=\"dataframe\">\n",
              "  <thead>\n",
              "    <tr style=\"text-align: right;\">\n",
              "      <th></th>\n",
              "      <th>comment</th>\n",
              "      <th>toxic</th>\n",
              "    </tr>\n",
              "    <tr>\n",
              "      <th>rev_id</th>\n",
              "      <th></th>\n",
              "      <th></th>\n",
              "    </tr>\n",
              "  </thead>\n",
              "  <tbody>\n",
              "    <tr>\n",
              "      <th>65636322</th>\n",
              "      <td>you are a catholic anti-hindu bastard</td>\n",
              "      <td>True</td>\n",
              "    </tr>\n",
              "    <tr>\n",
              "      <th>391183023</th>\n",
              "      <td>, but can be used for jewish misinformation</td>\n",
              "      <td>False</td>\n",
              "    </tr>\n",
              "    <tr>\n",
              "      <th>103350142</th>\n",
              "      <td>:::They do too.  their ... -</td>\n",
              "      <td>False</td>\n",
              "    </tr>\n",
              "    <tr>\n",
              "      <th>552977045</th>\n",
              "      <td>Dude what is your problem?</td>\n",
              "      <td>False</td>\n",
              "    </tr>\n",
              "    <tr>\n",
              "      <th>293433006</th>\n",
              "      <td>`    is a retard nigger.`</td>\n",
              "      <td>True</td>\n",
              "    </tr>\n",
              "    <tr>\n",
              "      <th>645672759</th>\n",
              "      <td>:That sounds like a good idea, just added it.</td>\n",
              "      <td>False</td>\n",
              "    </tr>\n",
              "    <tr>\n",
              "      <th>121855858</th>\n",
              "      <td>#Oppose.  gay festival is the primary meaning.</td>\n",
              "      <td>False</td>\n",
              "    </tr>\n",
              "    <tr>\n",
              "      <th>316611868</th>\n",
              "      <td>your a retarted shithead</td>\n",
              "      <td>True</td>\n",
              "    </tr>\n",
              "    <tr>\n",
              "      <th>297425598</th>\n",
              "      <td>IM jewish AND I LIKE A HUGE DICK UP MY ASS.</td>\n",
              "      <td>True</td>\n",
              "    </tr>\n",
              "    <tr>\n",
              "      <th>395836244</th>\n",
              "      <td>}} {{wikibreak|| on November 11</td>\n",
              "      <td>False</td>\n",
              "    </tr>\n",
              "    <tr>\n",
              "      <th>338908394</th>\n",
              "      <td>== Hey ==  Quit being a jerk.</td>\n",
              "      <td>True</td>\n",
              "    </tr>\n",
              "    <tr>\n",
              "      <th>391186610</th>\n",
              "      <td>for my gay tastes</td>\n",
              "      <td>False</td>\n",
              "    </tr>\n",
              "    <tr>\n",
              "      <th>131874772</th>\n",
              "      <td>for the actual movie</td>\n",
              "      <td>False</td>\n",
              "    </tr>\n",
              "    <tr>\n",
              "      <th>304580402</th>\n",
              "      <td>Regents licks a taintOPENLYGAY</td>\n",
              "      <td>True</td>\n",
              "    </tr>\n",
              "    <tr>\n",
              "      <th>72691057</th>\n",
              "      <td>Tom Atkins is a transgender and so are you.</td>\n",
              "      <td>True</td>\n",
              "    </tr>\n",
              "  </tbody>\n",
              "</table>\n",
              "</div>"
            ],
            "text/plain": [
              "                                                     comment  toxic\n",
              "rev_id                                                             \n",
              "65636322               you are a catholic anti-hindu bastard   True\n",
              "391183023        , but can be used for jewish misinformation  False\n",
              "103350142                     :::They do too.  their ... -    False\n",
              "552977045                         Dude what is your problem?  False\n",
              "293433006                          `    is a retard nigger.`   True\n",
              "645672759   :That sounds like a good idea, just added it.     False\n",
              "121855858   #Oppose.  gay festival is the primary meaning.    False\n",
              "316611868                           your a retarted shithead   True\n",
              "297425598        IM jewish AND I LIKE A HUGE DICK UP MY ASS.   True\n",
              "395836244                    }} {{wikibreak|| on November 11  False\n",
              "338908394                   == Hey ==  Quit being a jerk.      True\n",
              "391186610                                  for my gay tastes  False\n",
              "131874772                               for the actual movie  False\n",
              "304580402                   Regents licks a taintOPENLYGAY     True\n",
              "72691057       Tom Atkins is a transgender and so are you.     True"
            ]
          },
          "metadata": {
            "tags": []
          },
          "execution_count": 204
        }
      ]
    },
    {
      "metadata": {
        "id": "-fjMD7RwGvd4",
        "colab_type": "code",
        "colab": {}
      },
      "cell_type": "code",
      "source": [
        "testsets['fuzzed'].to_csv('../eval_datasets/toxicity_fuzzed_testset.csv')\n",
        "testsets['nonfuzzed'].to_csv('../eval_datasets/toxicity_nonfuzzed_testset.csv')"
      ],
      "execution_count": 0,
      "outputs": []
    }
  ]
}